{
  "nbformat": 4,
  "nbformat_minor": 0,
  "metadata": {
    "colab": {
      "provenance": [],
      "include_colab_link": true
    },
    "kernelspec": {
      "name": "python3",
      "display_name": "Python 3"
    },
    "language_info": {
      "name": "python"
    }
  },
  "cells": [
    {
      "cell_type": "markdown",
      "metadata": {
        "id": "view-in-github",
        "colab_type": "text"
      },
      "source": [
        "<a href=\"https://colab.research.google.com/github/SMITamim/Churn-Prediction-Tours-travel/blob/main/T%26T.ipynb\" target=\"_parent\"><img src=\"https://colab.research.google.com/assets/colab-badge.svg\" alt=\"Open In Colab\"/></a>"
      ]
    },
    {
      "cell_type": "code",
      "execution_count": null,
      "metadata": {
        "id": "mazdtpTvIO6Y"
      },
      "outputs": [],
      "source": [
        "!pip install -q kaggle\n"
      ]
    },
    {
      "cell_type": "code",
      "source": [],
      "metadata": {
        "id": "JFjr3GkDSFln"
      },
      "execution_count": null,
      "outputs": []
    },
    {
      "cell_type": "code",
      "source": [
        "from google.colab import files"
      ],
      "metadata": {
        "id": "VDYNcGwPI8Jc"
      },
      "execution_count": null,
      "outputs": []
    },
    {
      "cell_type": "code",
      "source": [
        "files.upload()"
      ],
      "metadata": {
        "colab": {
          "base_uri": "https://localhost:8080/",
          "height": 90
        },
        "id": "wBAWjhozI-qU",
        "outputId": "1abaf7e4-2f8a-47d0-e28f-365cd1511ad4"
      },
      "execution_count": null,
      "outputs": [
        {
          "output_type": "display_data",
          "data": {
            "text/plain": [
              "<IPython.core.display.HTML object>"
            ],
            "text/html": [
              "\n",
              "     <input type=\"file\" id=\"files-46498537-d881-48e7-bd42-3e6a45832685\" name=\"files[]\" multiple disabled\n",
              "        style=\"border:none\" />\n",
              "     <output id=\"result-46498537-d881-48e7-bd42-3e6a45832685\">\n",
              "      Upload widget is only available when the cell has been executed in the\n",
              "      current browser session. Please rerun this cell to enable.\n",
              "      </output>\n",
              "      <script>// Copyright 2017 Google LLC\n",
              "//\n",
              "// Licensed under the Apache License, Version 2.0 (the \"License\");\n",
              "// you may not use this file except in compliance with the License.\n",
              "// You may obtain a copy of the License at\n",
              "//\n",
              "//      http://www.apache.org/licenses/LICENSE-2.0\n",
              "//\n",
              "// Unless required by applicable law or agreed to in writing, software\n",
              "// distributed under the License is distributed on an \"AS IS\" BASIS,\n",
              "// WITHOUT WARRANTIES OR CONDITIONS OF ANY KIND, either express or implied.\n",
              "// See the License for the specific language governing permissions and\n",
              "// limitations under the License.\n",
              "\n",
              "/**\n",
              " * @fileoverview Helpers for google.colab Python module.\n",
              " */\n",
              "(function(scope) {\n",
              "function span(text, styleAttributes = {}) {\n",
              "  const element = document.createElement('span');\n",
              "  element.textContent = text;\n",
              "  for (const key of Object.keys(styleAttributes)) {\n",
              "    element.style[key] = styleAttributes[key];\n",
              "  }\n",
              "  return element;\n",
              "}\n",
              "\n",
              "// Max number of bytes which will be uploaded at a time.\n",
              "const MAX_PAYLOAD_SIZE = 100 * 1024;\n",
              "\n",
              "function _uploadFiles(inputId, outputId) {\n",
              "  const steps = uploadFilesStep(inputId, outputId);\n",
              "  const outputElement = document.getElementById(outputId);\n",
              "  // Cache steps on the outputElement to make it available for the next call\n",
              "  // to uploadFilesContinue from Python.\n",
              "  outputElement.steps = steps;\n",
              "\n",
              "  return _uploadFilesContinue(outputId);\n",
              "}\n",
              "\n",
              "// This is roughly an async generator (not supported in the browser yet),\n",
              "// where there are multiple asynchronous steps and the Python side is going\n",
              "// to poll for completion of each step.\n",
              "// This uses a Promise to block the python side on completion of each step,\n",
              "// then passes the result of the previous step as the input to the next step.\n",
              "function _uploadFilesContinue(outputId) {\n",
              "  const outputElement = document.getElementById(outputId);\n",
              "  const steps = outputElement.steps;\n",
              "\n",
              "  const next = steps.next(outputElement.lastPromiseValue);\n",
              "  return Promise.resolve(next.value.promise).then((value) => {\n",
              "    // Cache the last promise value to make it available to the next\n",
              "    // step of the generator.\n",
              "    outputElement.lastPromiseValue = value;\n",
              "    return next.value.response;\n",
              "  });\n",
              "}\n",
              "\n",
              "/**\n",
              " * Generator function which is called between each async step of the upload\n",
              " * process.\n",
              " * @param {string} inputId Element ID of the input file picker element.\n",
              " * @param {string} outputId Element ID of the output display.\n",
              " * @return {!Iterable<!Object>} Iterable of next steps.\n",
              " */\n",
              "function* uploadFilesStep(inputId, outputId) {\n",
              "  const inputElement = document.getElementById(inputId);\n",
              "  inputElement.disabled = false;\n",
              "\n",
              "  const outputElement = document.getElementById(outputId);\n",
              "  outputElement.innerHTML = '';\n",
              "\n",
              "  const pickedPromise = new Promise((resolve) => {\n",
              "    inputElement.addEventListener('change', (e) => {\n",
              "      resolve(e.target.files);\n",
              "    });\n",
              "  });\n",
              "\n",
              "  const cancel = document.createElement('button');\n",
              "  inputElement.parentElement.appendChild(cancel);\n",
              "  cancel.textContent = 'Cancel upload';\n",
              "  const cancelPromise = new Promise((resolve) => {\n",
              "    cancel.onclick = () => {\n",
              "      resolve(null);\n",
              "    };\n",
              "  });\n",
              "\n",
              "  // Wait for the user to pick the files.\n",
              "  const files = yield {\n",
              "    promise: Promise.race([pickedPromise, cancelPromise]),\n",
              "    response: {\n",
              "      action: 'starting',\n",
              "    }\n",
              "  };\n",
              "\n",
              "  cancel.remove();\n",
              "\n",
              "  // Disable the input element since further picks are not allowed.\n",
              "  inputElement.disabled = true;\n",
              "\n",
              "  if (!files) {\n",
              "    return {\n",
              "      response: {\n",
              "        action: 'complete',\n",
              "      }\n",
              "    };\n",
              "  }\n",
              "\n",
              "  for (const file of files) {\n",
              "    const li = document.createElement('li');\n",
              "    li.append(span(file.name, {fontWeight: 'bold'}));\n",
              "    li.append(span(\n",
              "        `(${file.type || 'n/a'}) - ${file.size} bytes, ` +\n",
              "        `last modified: ${\n",
              "            file.lastModifiedDate ? file.lastModifiedDate.toLocaleDateString() :\n",
              "                                    'n/a'} - `));\n",
              "    const percent = span('0% done');\n",
              "    li.appendChild(percent);\n",
              "\n",
              "    outputElement.appendChild(li);\n",
              "\n",
              "    const fileDataPromise = new Promise((resolve) => {\n",
              "      const reader = new FileReader();\n",
              "      reader.onload = (e) => {\n",
              "        resolve(e.target.result);\n",
              "      };\n",
              "      reader.readAsArrayBuffer(file);\n",
              "    });\n",
              "    // Wait for the data to be ready.\n",
              "    let fileData = yield {\n",
              "      promise: fileDataPromise,\n",
              "      response: {\n",
              "        action: 'continue',\n",
              "      }\n",
              "    };\n",
              "\n",
              "    // Use a chunked sending to avoid message size limits. See b/62115660.\n",
              "    let position = 0;\n",
              "    do {\n",
              "      const length = Math.min(fileData.byteLength - position, MAX_PAYLOAD_SIZE);\n",
              "      const chunk = new Uint8Array(fileData, position, length);\n",
              "      position += length;\n",
              "\n",
              "      const base64 = btoa(String.fromCharCode.apply(null, chunk));\n",
              "      yield {\n",
              "        response: {\n",
              "          action: 'append',\n",
              "          file: file.name,\n",
              "          data: base64,\n",
              "        },\n",
              "      };\n",
              "\n",
              "      let percentDone = fileData.byteLength === 0 ?\n",
              "          100 :\n",
              "          Math.round((position / fileData.byteLength) * 100);\n",
              "      percent.textContent = `${percentDone}% done`;\n",
              "\n",
              "    } while (position < fileData.byteLength);\n",
              "  }\n",
              "\n",
              "  // All done.\n",
              "  yield {\n",
              "    response: {\n",
              "      action: 'complete',\n",
              "    }\n",
              "  };\n",
              "}\n",
              "\n",
              "scope.google = scope.google || {};\n",
              "scope.google.colab = scope.google.colab || {};\n",
              "scope.google.colab._files = {\n",
              "  _uploadFiles,\n",
              "  _uploadFilesContinue,\n",
              "};\n",
              "})(self);\n",
              "</script> "
            ]
          },
          "metadata": {}
        },
        {
          "output_type": "stream",
          "name": "stdout",
          "text": [
            "Saving kaggle.json to kaggle.json\n"
          ]
        },
        {
          "output_type": "execute_result",
          "data": {
            "text/plain": [
              "{'kaggle.json': b'{\"username\":\"syedtamim\",\"key\":\"2cf9d332064a6727dc37b9b7885c2542\"}'}"
            ]
          },
          "metadata": {},
          "execution_count": 4
        }
      ]
    },
    {
      "cell_type": "code",
      "source": [
        "! mkdir ~/.kaggle"
      ],
      "metadata": {
        "id": "5r7psN_1JFCu",
        "colab": {
          "base_uri": "https://localhost:8080/"
        },
        "outputId": "48f66f2e-641c-4e02-d41a-9a6a9c677f4e"
      },
      "execution_count": null,
      "outputs": [
        {
          "output_type": "stream",
          "name": "stdout",
          "text": [
            "mkdir: cannot create directory ‘/root/.kaggle’: File exists\n"
          ]
        }
      ]
    },
    {
      "cell_type": "code",
      "source": [
        "! cp kaggle.json ~/.kaggle/"
      ],
      "metadata": {
        "id": "9RL2sh3KJMW0"
      },
      "execution_count": null,
      "outputs": []
    },
    {
      "cell_type": "code",
      "source": [
        "! chmod 600 ~/.kaggle/kaggle.json"
      ],
      "metadata": {
        "id": "e4HL-cyKJPoR"
      },
      "execution_count": null,
      "outputs": []
    },
    {
      "cell_type": "code",
      "source": [
        "! kaggle datasets list"
      ],
      "metadata": {
        "colab": {
          "base_uri": "https://localhost:8080/"
        },
        "id": "iaKyHvDzJT3d",
        "outputId": "06689fb8-5c4a-4339-8e03-187aedfc7170"
      },
      "execution_count": null,
      "outputs": [
        {
          "output_type": "stream",
          "name": "stdout",
          "text": [
            "ref                                                           title                                          size  lastUpdated          downloadCount  voteCount  usabilityRating  \n",
            "------------------------------------------------------------  ---------------------------------------------  ----  -------------------  -------------  ---------  ---------------  \n",
            "salvatorerastelli/spotify-and-youtube                         Spotify and Youtube                             9MB  2023-03-20 15:43:25           1109         40  1.0              \n",
            "dgoenrique/netflix-movies-and-tv-shows                        Netflix Movies and TV Shows                     2MB  2023-03-13 18:49:00            800         27  1.0              \n",
            "rajkumarpandey02/list-of-countries-by-gdp-sector-composition  List of Countries by GDP Sector Composition     8KB  2023-03-20 04:42:10           1008         35  1.0              \n",
            "datascientistanna/customers-dataset                           Shop Customer Data                             23KB  2023-02-07 18:42:21          14367        315  1.0              \n",
            "ajaypalsinghlo/world-happiness-report-2023                    World Happiness Report 2023                     7KB  2023-03-22 07:29:42            627         27  0.88235295       \n",
            "amaanansari09/most-streamed-songs-all-time                    Most Streamed Songs (All Time)                  8KB  2023-03-08 10:56:24           2845         69  1.0              \n",
            "rkiattisak/student-performance-in-mathematics                 Student performance prediction                  9KB  2023-03-12 04:32:56           2885         69  1.0              \n",
            "darshanpatel3112/top-rated-movies-from-tmdb                   Top Rated Movies  from TMDB                     1MB  2023-03-22 12:56:39            424         22  1.0              \n",
            "arnabchaki/popular-video-games-1980-2023                      Popular Video Games 1980 - 2023 🎮               1MB  2023-03-23 16:16:51            636         28  1.0              \n",
            "ramkrijal/tomato-daily-prices                                 Tomato Daily Prices                            10KB  2023-03-10 15:39:14           1627         49  1.0              \n",
            "themrityunjaypathak/covid-cases-and-deaths-worldwide          Covid Cases and Deaths WorldWide                8KB  2023-02-01 12:22:51          15445        494  1.0              \n",
            "anandaramg/apartment-cost-in-new-york-city                    Housing Cost in New York                        1MB  2023-03-22 02:48:15            616         24  1.0              \n",
            "zusmani/pakistan-toshakhana-files                             Pakistan ToshaKhana Files                       1MB  2023-03-15 16:25:43           2486        125  1.0              \n",
            "mehmettahiraslan/customer-shopping-dataset                    Customer Shopping Dataset - Retail Sales Data   2MB  2023-03-09 07:44:35           1941         63  1.0              \n",
            "shreyajagani13/imdb-movies-data                               imdb movies data                               27KB  2023-03-15 04:26:49            689         27  1.0              \n",
            "thedevastator/airbnb-prices-in-european-cities                Airbnb Prices in European Cities                4MB  2023-02-20 09:48:04           5677        101  1.0              \n",
            "arnabchaki/fitness-trackers-products-ecommerce                Fitness Trackers Products Ecommerce ⌚          14KB  2023-03-23 09:15:56            613         26  1.0              \n",
            "priyankkhanna/flipkart-product-dataset-by-priyank-khanna      Flipkart Product Dataset                        2MB  2023-03-03 13:44:42           1339         32  1.0              \n",
            "gianinamariapetrascu/top-250-anime-2023                       🍥 Top 250 Anime 2023                           10KB  2023-03-20 20:09:40            536         35  1.0              \n",
            "shreyajagani13/used-car-dataset                               Used Car Dataset                               12KB  2023-03-19 06:38:54            849         22  1.0              \n"
          ]
        }
      ]
    },
    {
      "cell_type": "code",
      "source": [
        "!kaggle datasets download -d tejashvi14/tour-travels-customer-churn-prediction\n"
      ],
      "metadata": {
        "colab": {
          "base_uri": "https://localhost:8080/"
        },
        "id": "rURv3y19SIJJ",
        "outputId": "d5d53681-6ff5-473e-e02d-730facb40cf5"
      },
      "execution_count": null,
      "outputs": [
        {
          "output_type": "stream",
          "name": "stdout",
          "text": [
            "Downloading tour-travels-customer-churn-prediction.zip to /content\n",
            "\r  0% 0.00/3.45k [00:00<?, ?B/s]\n",
            "\r100% 3.45k/3.45k [00:00<00:00, 6.57MB/s]\n"
          ]
        }
      ]
    },
    {
      "cell_type": "code",
      "source": [
        "!unzip tour-travels-customer-churn-prediction.zip"
      ],
      "metadata": {
        "colab": {
          "base_uri": "https://localhost:8080/"
        },
        "id": "9e3poNzwSR25",
        "outputId": "5e156af6-1b26-42d2-f8a7-4c528f38c952"
      },
      "execution_count": null,
      "outputs": [
        {
          "output_type": "stream",
          "name": "stdout",
          "text": [
            "Archive:  tour-travels-customer-churn-prediction.zip\n",
            "  inflating: Customertravel.csv      \n"
          ]
        }
      ]
    },
    {
      "cell_type": "code",
      "source": [
        "import pandas as pd\n",
        "import matplotlib.pyplot as plt\n",
        "import seaborn as sns\n",
        "from pandas.plotting import parallel_coordinates as plc\n",
        "from sklearn.model_selection import train_test_split\n",
        "from sklearn import svm\n",
        "from sklearn import metrics\n",
        "from sklearn.tree import DecisionTreeClassifier\n",
        "from sklearn.neighbors import KNeighborsClassifier\n",
        "from sklearn.utils import column_or_1d\n",
        "from sklearn.linear_model import LogisticRegression\n",
        "from sklearn.naive_bayes import GaussianNB\n"
      ],
      "metadata": {
        "id": "qhxsh1wlUAaR"
      },
      "execution_count": 13,
      "outputs": []
    },
    {
      "cell_type": "code",
      "source": [
        "customer_dt = pd.read_csv('Customertravel.csv')"
      ],
      "metadata": {
        "id": "uF2hVPzAUI0X"
      },
      "execution_count": 14,
      "outputs": []
    },
    {
      "cell_type": "code",
      "source": [
        "print(customer_dt)"
      ],
      "metadata": {
        "colab": {
          "base_uri": "https://localhost:8080/"
        },
        "id": "JW7VB-7VUT_0",
        "outputId": "891c7409-a48d-4643-e5f0-5760a2ca06dc"
      },
      "execution_count": 15,
      "outputs": [
        {
          "output_type": "stream",
          "name": "stdout",
          "text": [
            "     Age FrequentFlyer AnnualIncomeClass  ServicesOpted  \\\n",
            "0     34            No     Middle Income              6   \n",
            "1     34           Yes        Low Income              5   \n",
            "2     37            No     Middle Income              3   \n",
            "3     30            No     Middle Income              2   \n",
            "4     30            No        Low Income              1   \n",
            "..   ...           ...               ...            ...   \n",
            "949   31           Yes        Low Income              1   \n",
            "950   30            No     Middle Income              5   \n",
            "951   37            No     Middle Income              4   \n",
            "952   30            No        Low Income              1   \n",
            "953   31           Yes       High Income              1   \n",
            "\n",
            "    AccountSyncedToSocialMedia BookedHotelOrNot  Target  \n",
            "0                           No              Yes       0  \n",
            "1                          Yes               No       1  \n",
            "2                          Yes               No       0  \n",
            "3                           No               No       0  \n",
            "4                           No               No       0  \n",
            "..                         ...              ...     ...  \n",
            "949                         No               No       0  \n",
            "950                         No              Yes       0  \n",
            "951                         No               No       0  \n",
            "952                        Yes              Yes       0  \n",
            "953                         No               No       0  \n",
            "\n",
            "[954 rows x 7 columns]\n"
          ]
        }
      ]
    },
    {
      "cell_type": "code",
      "source": [
        "print(customer_dt.head())"
      ],
      "metadata": {
        "colab": {
          "base_uri": "https://localhost:8080/"
        },
        "id": "OCzn-OgmUgP3",
        "outputId": "5b4ff006-dc2a-4894-dd8c-167a6c76fda0"
      },
      "execution_count": 16,
      "outputs": [
        {
          "output_type": "stream",
          "name": "stdout",
          "text": [
            "   Age FrequentFlyer AnnualIncomeClass  ServicesOpted  \\\n",
            "0   34            No     Middle Income              6   \n",
            "1   34           Yes        Low Income              5   \n",
            "2   37            No     Middle Income              3   \n",
            "3   30            No     Middle Income              2   \n",
            "4   30            No        Low Income              1   \n",
            "\n",
            "  AccountSyncedToSocialMedia BookedHotelOrNot  Target  \n",
            "0                         No              Yes       0  \n",
            "1                        Yes               No       1  \n",
            "2                        Yes               No       0  \n",
            "3                         No               No       0  \n",
            "4                         No               No       0  \n"
          ]
        }
      ]
    },
    {
      "cell_type": "code",
      "source": [
        "print(customer_dt.describe())"
      ],
      "metadata": {
        "colab": {
          "base_uri": "https://localhost:8080/"
        },
        "id": "fMFTi9WOUkE8",
        "outputId": "09e869d2-0cd0-4ffd-b90a-cb5af78f0d12"
      },
      "execution_count": 17,
      "outputs": [
        {
          "output_type": "stream",
          "name": "stdout",
          "text": [
            "              Age  ServicesOpted      Target\n",
            "count  954.000000     954.000000  954.000000\n",
            "mean    32.109015       2.437107    0.234801\n",
            "std      3.337388       1.606233    0.424097\n",
            "min     27.000000       1.000000    0.000000\n",
            "25%     30.000000       1.000000    0.000000\n",
            "50%     31.000000       2.000000    0.000000\n",
            "75%     35.000000       4.000000    0.000000\n",
            "max     38.000000       6.000000    1.000000\n"
          ]
        }
      ]
    },
    {
      "cell_type": "code",
      "source": [
        "print(customer_dt.info())"
      ],
      "metadata": {
        "colab": {
          "base_uri": "https://localhost:8080/"
        },
        "id": "31y1InZDUtlZ",
        "outputId": "93bf5190-62a4-4c78-d8ba-52cc0f4e2af2"
      },
      "execution_count": 18,
      "outputs": [
        {
          "output_type": "stream",
          "name": "stdout",
          "text": [
            "<class 'pandas.core.frame.DataFrame'>\n",
            "RangeIndex: 954 entries, 0 to 953\n",
            "Data columns (total 7 columns):\n",
            " #   Column                      Non-Null Count  Dtype \n",
            "---  ------                      --------------  ----- \n",
            " 0   Age                         954 non-null    int64 \n",
            " 1   FrequentFlyer               954 non-null    object\n",
            " 2   AnnualIncomeClass           954 non-null    object\n",
            " 3   ServicesOpted               954 non-null    int64 \n",
            " 4   AccountSyncedToSocialMedia  954 non-null    object\n",
            " 5   BookedHotelOrNot            954 non-null    object\n",
            " 6   Target                      954 non-null    int64 \n",
            "dtypes: int64(3), object(4)\n",
            "memory usage: 52.3+ KB\n",
            "None\n"
          ]
        }
      ]
    },
    {
      "cell_type": "code",
      "source": [
        "customer_dt.drop_duplicates(inplace=True)"
      ],
      "metadata": {
        "id": "frXnmGozU8dS"
      },
      "execution_count": 19,
      "outputs": []
    },
    {
      "cell_type": "code",
      "source": [
        "print(customer_dt['Age'].value_counts())"
      ],
      "metadata": {
        "colab": {
          "base_uri": "https://localhost:8080/"
        },
        "id": "4mDMLG4oVBzN",
        "outputId": "ff896a50-a1e6-48d5-a5ea-09024c57de92"
      },
      "execution_count": 20,
      "outputs": [
        {
          "output_type": "stream",
          "name": "stdout",
          "text": [
            "30    70\n",
            "34    51\n",
            "37    45\n",
            "31    42\n",
            "29    42\n",
            "28    40\n",
            "27    36\n",
            "36    36\n",
            "35    34\n",
            "33    26\n",
            "38    25\n",
            "Name: Age, dtype: int64\n"
          ]
        }
      ]
    },
    {
      "cell_type": "code",
      "source": [
        "print(customer_dt['FrequentFlyer'].value_counts())"
      ],
      "metadata": {
        "colab": {
          "base_uri": "https://localhost:8080/"
        },
        "id": "02Mcrdk-VTV9",
        "outputId": "26257757-5c39-4d60-c9e0-25981892dd70"
      },
      "execution_count": 21,
      "outputs": [
        {
          "output_type": "stream",
          "name": "stdout",
          "text": [
            "No           250\n",
            "Yes          144\n",
            "No Record     53\n",
            "Name: FrequentFlyer, dtype: int64\n"
          ]
        }
      ]
    },
    {
      "cell_type": "code",
      "source": [
        "print(customer_dt['AnnualIncomeClass'].value_counts())"
      ],
      "metadata": {
        "colab": {
          "base_uri": "https://localhost:8080/"
        },
        "id": "DLPipa7vVaW9",
        "outputId": "4cedda07-535b-44b7-ef14-bf4b2ee4e865"
      },
      "execution_count": 22,
      "outputs": [
        {
          "output_type": "stream",
          "name": "stdout",
          "text": [
            "Low Income       205\n",
            "Middle Income    173\n",
            "High Income       69\n",
            "Name: AnnualIncomeClass, dtype: int64\n"
          ]
        }
      ]
    },
    {
      "cell_type": "code",
      "source": [
        "print(customer_dt['ServicesOpted'].value_counts())"
      ],
      "metadata": {
        "colab": {
          "base_uri": "https://localhost:8080/"
        },
        "id": "P0p9XEhyVlOK",
        "outputId": "3c46f9fa-f661-43b8-c57d-05859df49602"
      },
      "execution_count": 23,
      "outputs": [
        {
          "output_type": "stream",
          "name": "stdout",
          "text": [
            "1    150\n",
            "4     80\n",
            "2     71\n",
            "3     63\n",
            "5     55\n",
            "6     28\n",
            "Name: ServicesOpted, dtype: int64\n"
          ]
        }
      ]
    },
    {
      "cell_type": "code",
      "source": [
        "print(customer_dt['AccountSyncedToSocialMedia'].value_counts())"
      ],
      "metadata": {
        "colab": {
          "base_uri": "https://localhost:8080/"
        },
        "id": "gKiqibUNVq_R",
        "outputId": "5c5e5a48-b759-4779-8da6-25fd8fe4181a"
      },
      "execution_count": 24,
      "outputs": [
        {
          "output_type": "stream",
          "name": "stdout",
          "text": [
            "No     261\n",
            "Yes    186\n",
            "Name: AccountSyncedToSocialMedia, dtype: int64\n"
          ]
        }
      ]
    },
    {
      "cell_type": "code",
      "source": [
        "print(customer_dt['BookedHotelOrNot'].value_counts())"
      ],
      "metadata": {
        "colab": {
          "base_uri": "https://localhost:8080/"
        },
        "id": "m9DpXBQxVwaL",
        "outputId": "4496a4be-799c-4cbd-cb63-dc46ec8ad366"
      },
      "execution_count": 25,
      "outputs": [
        {
          "output_type": "stream",
          "name": "stdout",
          "text": [
            "No     258\n",
            "Yes    189\n",
            "Name: BookedHotelOrNot, dtype: int64\n"
          ]
        }
      ]
    },
    {
      "cell_type": "code",
      "source": [
        "print(customer_dt['Target'].value_counts())"
      ],
      "metadata": {
        "colab": {
          "base_uri": "https://localhost:8080/"
        },
        "id": "39BFwO4XV3Ge",
        "outputId": "c32c136c-4b7e-48df-95ac-31df2c71bed2"
      },
      "execution_count": 26,
      "outputs": [
        {
          "output_type": "stream",
          "name": "stdout",
          "text": [
            "0    325\n",
            "1    122\n",
            "Name: Target, dtype: int64\n"
          ]
        }
      ]
    },
    {
      "cell_type": "code",
      "source": [
        "customer_dt.plot(kind='scatter', x='Age', y='Target')"
      ],
      "metadata": {
        "colab": {
          "base_uri": "https://localhost:8080/",
          "height": 331
        },
        "id": "V6Noq7JiY1UW",
        "outputId": "62faa808-6f0a-4d4e-97ab-0edc35d08983"
      },
      "execution_count": 28,
      "outputs": [
        {
          "output_type": "stream",
          "name": "stderr",
          "text": [
            "/usr/local/lib/python3.9/dist-packages/pandas/plotting/_matplotlib/core.py:1114: UserWarning: No data for colormapping provided via 'c'. Parameters 'cmap' will be ignored\n",
            "  scatter = ax.scatter(\n"
          ]
        },
        {
          "output_type": "execute_result",
          "data": {
            "text/plain": [
              "<Axes: xlabel='Age', ylabel='Target'>"
            ]
          },
          "metadata": {},
          "execution_count": 28
        },
        {
          "output_type": "display_data",
          "data": {
            "text/plain": [
              "<Figure size 432x288 with 1 Axes>"
            ],
            "image/png": "[encoded data removed]"
          },
          "metadata": {
            "needs_background": "light"
          }
        }
      ]
    },
    {
      "cell_type": "code",
      "source": [
        "sns.barplot(x='Age', y='Target', data=customer_dt)"
      ],
      "metadata": {
        "colab": {
          "base_uri": "https://localhost:8080/",
          "height": 296
        },
        "id": "oTRvHiXVZObE",
        "outputId": "5ec0aa66-74bb-4157-9bf1-d8a6c914e8a8"
      },
      "execution_count": 32,
      "outputs": [
        {
          "output_type": "execute_result",
          "data": {
            "text/plain": [
              "<Axes: xlabel='Age', ylabel='Target'>"
            ]
          },
          "metadata": {},
          "execution_count": 32
        },
        {
          "output_type": "display_data",
          "data": {
            "text/plain": [
              "<Figure size 432x288 with 1 Axes>"
            ],
            "image/png": "[encoded data removed]"
          },
          "metadata": {
            "needs_background": "light"
          }
        }
      ]
    },
    {
      "cell_type": "code",
      "source": [
        "customer_dt.plot(kind='scatter', x='FrequentFlyer', y='Target')"
      ],
      "metadata": {
        "colab": {
          "base_uri": "https://localhost:8080/",
          "height": 331
        },
        "id": "gVx6MgB3bsVm",
        "outputId": "fc987509-8fc7-4579-841c-92b9e05361e1"
      },
      "execution_count": 33,
      "outputs": [
        {
          "output_type": "stream",
          "name": "stderr",
          "text": [
            "/usr/local/lib/python3.9/dist-packages/pandas/plotting/_matplotlib/core.py:1114: UserWarning: No data for colormapping provided via 'c'. Parameters 'cmap' will be ignored\n",
            "  scatter = ax.scatter(\n"
          ]
        },
        {
          "output_type": "execute_result",
          "data": {
            "text/plain": [
              "<Axes: xlabel='FrequentFlyer', ylabel='Target'>"
            ]
          },
          "metadata": {},
          "execution_count": 33
        },
        {
          "output_type": "display_data",
          "data": {
            "text/plain": [
              "<Figure size 432x288 with 1 Axes>"
            ],
            "image/png": "[encoded data removed]"
          },
          "metadata": {
            "needs_background": "light"
          }
        }
      ]
    },
    {
      "cell_type": "code",
      "source": [
        "sns.barplot(x='FrequentFlyer', y='Target', data=customer_dt)"
      ],
      "metadata": {
        "colab": {
          "base_uri": "https://localhost:8080/",
          "height": 296
        },
        "id": "TM7362Hmbytv",
        "outputId": "186b01a0-eeed-436e-eba2-4b90923f397a"
      },
      "execution_count": 34,
      "outputs": [
        {
          "output_type": "execute_result",
          "data": {
            "text/plain": [
              "<Axes: xlabel='FrequentFlyer', ylabel='Target'>"
            ]
          },
          "metadata": {},
          "execution_count": 34
        },
        {
          "output_type": "display_data",
          "data": {
            "text/plain": [
              "<Figure size 432x288 with 1 Axes>"
            ],
            "image/png": "[encoded data removed]"
          },
          "metadata": {
            "needs_background": "light"
          }
        }
      ]
    },
    {
      "cell_type": "code",
      "source": [
        "customer_dt.plot(kind='scatter', x='AnnualIncomeClass', y='Target')"
      ],
      "metadata": {
        "colab": {
          "base_uri": "https://localhost:8080/",
          "height": 331
        },
        "id": "oaeReAseb905",
        "outputId": "fd222192-39d3-41f2-a2c4-d7873a3e8ac4"
      },
      "execution_count": 35,
      "outputs": [
        {
          "output_type": "stream",
          "name": "stderr",
          "text": [
            "/usr/local/lib/python3.9/dist-packages/pandas/plotting/_matplotlib/core.py:1114: UserWarning: No data for colormapping provided via 'c'. Parameters 'cmap' will be ignored\n",
            "  scatter = ax.scatter(\n"
          ]
        },
        {
          "output_type": "execute_result",
          "data": {
            "text/plain": [
              "<Axes: xlabel='AnnualIncomeClass', ylabel='Target'>"
            ]
          },
          "metadata": {},
          "execution_count": 35
        },
        {
          "output_type": "display_data",
          "data": {
            "text/plain": [
              "<Figure size 432x288 with 1 Axes>"
            ],
            "image/png": "[encoded data removed]"
          },
          "metadata": {
            "needs_background": "light"
          }
        }
      ]
    },
    {
      "cell_type": "code",
      "source": [
        "sns.barplot(x='AnnualIncomeClass', y='Target', data=customer_dt)"
      ],
      "metadata": {
        "colab": {
          "base_uri": "https://localhost:8080/",
          "height": 296
        },
        "id": "j1stLIumcE5Z",
        "outputId": "5c3d77b4-aa17-4f8b-f3a2-1efbcde72645"
      },
      "execution_count": 36,
      "outputs": [
        {
          "output_type": "execute_result",
          "data": {
            "text/plain": [
              "<Axes: xlabel='AnnualIncomeClass', ylabel='Target'>"
            ]
          },
          "metadata": {},
          "execution_count": 36
        },
        {
          "output_type": "display_data",
          "data": {
            "text/plain": [
              "<Figure size 432x288 with 1 Axes>"
            ],
            "image/png": "[encoded data removed]"
          },
          "metadata": {
            "needs_background": "light"
          }
        }
      ]
    },
    {
      "cell_type": "code",
      "source": [
        "customer_dt.plot(kind='scatter', x='ServicesOpted', y='Target')"
      ],
      "metadata": {
        "colab": {
          "base_uri": "https://localhost:8080/",
          "height": 331
        },
        "id": "t38Vm4cZd4Zl",
        "outputId": "d1af6afc-c2da-4cc6-b006-c524c0381f90"
      },
      "execution_count": 37,
      "outputs": [
        {
          "output_type": "stream",
          "name": "stderr",
          "text": [
            "/usr/local/lib/python3.9/dist-packages/pandas/plotting/_matplotlib/core.py:1114: UserWarning: No data for colormapping provided via 'c'. Parameters 'cmap' will be ignored\n",
            "  scatter = ax.scatter(\n"
          ]
        },
        {
          "output_type": "execute_result",
          "data": {
            "text/plain": [
              "<Axes: xlabel='ServicesOpted', ylabel='Target'>"
            ]
          },
          "metadata": {},
          "execution_count": 37
        },
        {
          "output_type": "display_data",
          "data": {
            "text/plain": [
              "<Figure size 432x288 with 1 Axes>"
            ],
            "image/png": "[encoded data removed]"
          },
          "metadata": {
            "needs_background": "light"
          }
        }
      ]
    },
    {
      "cell_type": "code",
      "source": [
        "sns.barplot(x='ServicesOpted', y='Target', data=customer_dt)"
      ],
      "metadata": {
        "colab": {
          "base_uri": "https://localhost:8080/",
          "height": 296
        },
        "id": "MGfAmjjGeAjS",
        "outputId": "dad152d8-b622-4374-f35a-a4dc64eff976"
      },
      "execution_count": 38,
      "outputs": [
        {
          "output_type": "execute_result",
          "data": {
            "text/plain": [
              "<Axes: xlabel='ServicesOpted', ylabel='Target'>"
            ]
          },
          "metadata": {},
          "execution_count": 38
        },
        {
          "output_type": "display_data",
          "data": {
            "text/plain": [
              "<Figure size 432x288 with 1 Axes>"
            ],
            "image/png": "[encoded data removed]"
          },
          "metadata": {
            "needs_background": "light"
          }
        }
      ]
    },
    {
      "cell_type": "code",
      "source": [
        "customer_dt.plot(kind='scatter', x='AccountSyncedToSocialMedia', y='Target')"
      ],
      "metadata": {
        "colab": {
          "base_uri": "https://localhost:8080/",
          "height": 331
        },
        "id": "VQeMw1bAeN9m",
        "outputId": "90490a96-1f90-4de6-c75b-2432913d7b88"
      },
      "execution_count": 39,
      "outputs": [
        {
          "output_type": "stream",
          "name": "stderr",
          "text": [
            "/usr/local/lib/python3.9/dist-packages/pandas/plotting/_matplotlib/core.py:1114: UserWarning: No data for colormapping provided via 'c'. Parameters 'cmap' will be ignored\n",
            "  scatter = ax.scatter(\n"
          ]
        },
        {
          "output_type": "execute_result",
          "data": {
            "text/plain": [
              "<Axes: xlabel='AccountSyncedToSocialMedia', ylabel='Target'>"
            ]
          },
          "metadata": {},
          "execution_count": 39
        },
        {
          "output_type": "display_data",
          "data": {
            "text/plain": [
              "<Figure size 432x288 with 1 Axes>"
            ],
            "image/png": "[encoded data removed]"
          },
          "metadata": {
            "needs_background": "light"
          }
        }
      ]
    },
    {
      "cell_type": "code",
      "source": [
        "sns.barplot(x='AccountSyncedToSocialMedia', y='Target', data=customer_dt)"
      ],
      "metadata": {
        "colab": {
          "base_uri": "https://localhost:8080/",
          "height": 297
        },
        "id": "2bIooHAueTl9",
        "outputId": "2d32b14c-3d62-469f-b2d9-bd7db8aca622"
      },
      "execution_count": 40,
      "outputs": [
        {
          "output_type": "execute_result",
          "data": {
            "text/plain": [
              "<Axes: xlabel='AccountSyncedToSocialMedia', ylabel='Target'>"
            ]
          },
          "metadata": {},
          "execution_count": 40
        },
        {
          "output_type": "display_data",
          "data": {
            "text/plain": [
              "<Figure size 432x288 with 1 Axes>"
            ],
            "image/png": "[encoded data removed]"
          },
          "metadata": {
            "needs_background": "light"
          }
        }
      ]
    },
    {
      "cell_type": "code",
      "source": [
        "customer_dt.plot(kind='scatter', x='BookedHotelOrNot', y='Target')"
      ],
      "metadata": {
        "colab": {
          "base_uri": "https://localhost:8080/",
          "height": 331
        },
        "id": "8kGUCuj4eett",
        "outputId": "0b82fdd1-8cf5-4b80-bfe4-71dd84383fb2"
      },
      "execution_count": 41,
      "outputs": [
        {
          "output_type": "stream",
          "name": "stderr",
          "text": [
            "/usr/local/lib/python3.9/dist-packages/pandas/plotting/_matplotlib/core.py:1114: UserWarning: No data for colormapping provided via 'c'. Parameters 'cmap' will be ignored\n",
            "  scatter = ax.scatter(\n"
          ]
        },
        {
          "output_type": "execute_result",
          "data": {
            "text/plain": [
              "<Axes: xlabel='BookedHotelOrNot', ylabel='Target'>"
            ]
          },
          "metadata": {},
          "execution_count": 41
        },
        {
          "output_type": "display_data",
          "data": {
            "text/plain": [
              "<Figure size 432x288 with 1 Axes>"
            ],
            "image/png": "[encoded data removed]"
          },
          "metadata": {
            "needs_background": "light"
          }
        }
      ]
    },
    {
      "cell_type": "code",
      "source": [
        "sns.barplot(x='BookedHotelOrNot', y='Target', data=customer_dt)"
      ],
      "metadata": {
        "id": "tNfI7CXhelEw",
        "outputId": "fa8b7001-acad-404c-c5f4-ce0a1a057947",
        "colab": {
          "base_uri": "https://localhost:8080/",
          "height": 296
        }
      },
      "execution_count": 42,
      "outputs": [
        {
          "output_type": "execute_result",
          "data": {
            "text/plain": [
              "<Axes: xlabel='BookedHotelOrNot', ylabel='Target'>"
            ]
          },
          "metadata": {},
          "execution_count": 42
        },
        {
          "output_type": "display_data",
          "data": {
            "text/plain": [
              "<Figure size 432x288 with 1 Axes>"
            ],
            "image/png": "[encoded data removed]"
          },
          "metadata": {
            "needs_background": "light"
          }
        }
      ]
    }
  ]
}